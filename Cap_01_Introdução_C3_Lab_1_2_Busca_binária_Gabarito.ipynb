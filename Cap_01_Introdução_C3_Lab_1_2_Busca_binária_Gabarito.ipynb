{
  "nbformat": 4,
  "nbformat_minor": 0,
  "metadata": {
    "colab": {
      "provenance": []
    },
    "kernelspec": {
      "name": "python3",
      "display_name": "Python 3"
    },
    "language_info": {
      "name": "python"
    }
  },
  "cells": [
    {
      "cell_type": "markdown",
      "source": [
        "#Lab 1.2 - Análise da busca binária#\n",
        "Objetivos:\n",
        "- Analisar o esforço computacional da busca binária e comparar com a busca linear\n",
        "\n",
        "Objetivos secundários:\n",
        "- Vide lab 1.1\n",
        "\n",
        "Atividades / Passos:\n",
        "- Gerar um vetor com dados aleatórios\n",
        "- Ordenar o vetor\n",
        "- Implementar a busca binária\n",
        "- Realizar os experimentos com exemplos de chave\n",
        "- Montar a lista de experimentos\n",
        "- Plotar o gráfico para análise"
      ],
      "metadata": {
        "id": "tVZQx8TIlHNK"
      }
    },
    {
      "cell_type": "markdown",
      "source": [
        "# **Passo 1 : Geração de números aleatórios em uma lista (\"vetor\")**\n",
        "- Compreender a geração de números aleatórios, sobretudo o uso do seed (semente)\n",
        "- Gerar e manipular uma lista com N elementos"
      ],
      "metadata": {
        "id": "FcE5gBXYWWl3"
      }
    },
    {
      "cell_type": "code",
      "execution_count": null,
      "metadata": {
        "colab": {
          "base_uri": "https://localhost:8080/"
        },
        "id": "CuTuPmH1k5pq",
        "outputId": "73cfb099-549f-4113-d7fa-14f2b8053e54"
      },
      "outputs": [
        {
          "output_type": "stream",
          "name": "stdout",
          "text": [
            "885441\n",
            "403959\n",
            "794773\n",
            "933489\n",
            "441002\n"
          ]
        }
      ],
      "source": [
        "# Compreendendo a geração de números aleatórios\n",
        "# Questão: Qual diferença ao usar o random.seed() dentro ou fora do FOR?\n",
        "# Questão: Em duas ou mais execuções os números aleatórios serão diferentes?\n",
        "import random\n",
        "random.seed(0)\n",
        "for i in range(5):\n",
        "    print(random.randint(1, 1000000))"
      ]
    },
    {
      "cell_type": "code",
      "source": [
        "# Criando um vetor (lista) com\n",
        "#     - N elementos (tamanho),\n",
        "#     - dentro de uma faixa de valores (limite) e\n",
        "#     - sempre com uma mesma sequência (seed)\n",
        "# Questão: No Python existe o conceito de vetor? Como ele trata este recurso?\n",
        "import random\n",
        "\n",
        "def GeradorDados(tamanho, limite, seed):\n",
        "    dados = []\n",
        "    random.seed(seed)\n",
        "    for i in range(tamanho):\n",
        "        dados.append(random.randint(1, limite))\n",
        "\n",
        "    return dados\n"
      ],
      "metadata": {
        "id": "5C0Hf1thn21A"
      },
      "execution_count": null,
      "outputs": []
    },
    {
      "cell_type": "code",
      "source": [
        "# Gerando e manipulando os dados\n",
        "N   = 1000000    # Quantidade de números no vetor\n",
        "LIM = 1000000   # Limite para geração do número aleatório\n",
        "S   = 2         # Seed: para manter sempre uma mesma sequência\n",
        "\n",
        "dados = GeradorDados(N, LIM, S)\n",
        "\n",
        "print(\" Tamanho da lista: \" + str(len(dados)))\n",
        "print(\" Lista: \")\n",
        "print(dados[0:20])\n"
      ],
      "metadata": {
        "colab": {
          "base_uri": "https://localhost:8080/"
        },
        "id": "OfzO4_5BUAh2",
        "outputId": "f138b2d4-de46-4712-9b13-c49d0f1515d6"
      },
      "execution_count": null,
      "outputs": [
        {
          "output_type": "stream",
          "name": "stdout",
          "text": [
            " Tamanho da lista: 1000000\n",
            " Lista: \n",
            "[905036, 993870, 890299, 59299, 96034, 88995, 378597, 876085, 177298, 771721, 848259, 702264, 895311, 323105, 263805, 635379, 222528, 636278, 37471, 609437]\n"
          ]
        }
      ]
    },
    {
      "cell_type": "markdown",
      "source": [
        "# **Passo 2 : Ordenar o vetor**"
      ],
      "metadata": {
        "id": "hJmm6V7YXsOH"
      }
    },
    {
      "cell_type": "code",
      "source": [
        "dados_ord = sorted(dados)\n",
        "print(dados_ord[1:100])"
      ],
      "metadata": {
        "id": "_S-mMW_3X3LV",
        "colab": {
          "base_uri": "https://localhost:8080/"
        },
        "outputId": "55255f7d-38d6-4f6c-9d34-12de0f6e514e"
      },
      "execution_count": null,
      "outputs": [
        {
          "output_type": "stream",
          "name": "stdout",
          "text": [
            "[1, 2, 3, 5, 5, 5, 5, 8, 9, 10, 10, 11, 11, 12, 12, 12, 12, 14, 16, 16, 17, 18, 19, 20, 20, 20, 21, 21, 22, 22, 22, 23, 23, 23, 24, 24, 24, 27, 27, 28, 28, 30, 30, 32, 33, 34, 34, 35, 36, 36, 37, 38, 38, 39, 40, 40, 42, 42, 46, 46, 47, 47, 47, 49, 50, 52, 54, 55, 55, 58, 59, 59, 59, 61, 64, 64, 64, 67, 69, 71, 73, 73, 75, 75, 75, 77, 77, 78, 79, 80, 80, 81, 81, 82, 83, 84, 85, 87, 89]\n"
          ]
        }
      ]
    },
    {
      "cell_type": "markdown",
      "source": [
        "# **Passo 3 : Criar a função de pesquisa binária**"
      ],
      "metadata": {
        "id": "hFAeWdddmdZl"
      }
    },
    {
      "cell_type": "code",
      "source": [
        "import time\n",
        "\n",
        "def PesquisaBinaria(lista, chave):\n",
        "\n",
        "  instrs = 4            # Cada instrução abaixo\n",
        "  t      = time.time()  # recuperando instante atual\n",
        "\n",
        "  achou = False\n",
        "  pos = -1\n",
        "\n",
        "  limInf = 0\n",
        "  limSup = len(lista)-1\n",
        "\n",
        "  while (limInf <= limSup) and (not(achou)):\n",
        "\n",
        "      meio = (limInf + limSup) // 2\n",
        "      if (chave == lista[meio]):\n",
        "          achou = True\n",
        "          pos = meio\n",
        "          instrs += 2\n",
        "      else:\n",
        "          if (chave < lista[meio]):\n",
        "              limSup = meio - 1\n",
        "          else:\n",
        "              limInf = meio + 1\n",
        "          instrs += 2\n",
        "      instrs += 2\n",
        "\n",
        "  t = time.time() - t      # diferença em relação ao instante\n",
        "  resultado = [chave, achou, pos, t, instrs]\n",
        "\n",
        "  return resultado"
      ],
      "metadata": {
        "id": "9T2gpB7uYCau"
      },
      "execution_count": null,
      "outputs": []
    },
    {
      "cell_type": "code",
      "source": [
        "posicao = 100000        # Posição à experimentar\n",
        "chave   = dados_ord[posicao]  # Chave na posição do vetor\n",
        "print(\" Valor e posição: \" + str(chave) + \" - \" + str(posicao))\n",
        "\n",
        "# Realizando a busca\n",
        "result  = PesquisaBinaria(dados_ord, chave)\n",
        "print(result)"
      ],
      "metadata": {
        "id": "2NhXYC3UXrlh",
        "colab": {
          "base_uri": "https://localhost:8080/"
        },
        "outputId": "0ffcf718-4311-46cf-f122-8778316df469"
      },
      "execution_count": null,
      "outputs": [
        {
          "output_type": "stream",
          "name": "stdout",
          "text": [
            " Valor e posição: 100147 - 100000\n",
            "[100147, True, 100000, 2.2649765014648438e-05, 76]\n"
          ]
        }
      ]
    },
    {
      "cell_type": "markdown",
      "source": [
        "# **Passo 4 : Realizando os experimentos**\n",
        "- Assim como foi feito com pesquisa linear, faça os experimentos para os casos referentes ao seu grupo. Para cada caso, copie e cole o resultado na lista de experimentos abaixo (ela servirá para geração de gráfico).\n",
        "- Veja lista de casos (posição) conforme grupo:\n",
        "- Grupo 1: 599160, 34168, 449723, 506003, 606173, 15553, 216110, 485051, 852830, 515162, 863596, 291002, 685216, 849996, 168013\n",
        "-------\n",
        "- Grupo 2: 474355, 907797, 586964, 898486, 969106, 819167, 488270, 473781, 532511, 896581, 615918, 199127, 193631, 842951, 536776\n",
        "-----------\n",
        "- Grupo 3: 497624, 282062, 689410, 554834, 698783, 366777, 149528, 400180, 11388, 392959, 505979, 287361, 674663, 849712, 482574\n",
        "-----------\n",
        "- Grupo 4: 271591, 304882, 718546, 953722, 717312, 840963, 890594, 933231, 194746, 683682, 241759, 698547, 154309, 911455, 236101\n",
        "-----------\n",
        "- Grupo 5: 112018, 645796, 736715, 791891, 683716, 552717, 986031, 258931, 284285, 770842, 268201, 305153, 769718, 76154, 690435\n",
        "-----------\n",
        "- Grupo 6: 219132, 12221, 546641, 771744, 37934, 165689, 957365, 250558, 17701, 57618, 922214, 843972, 714448, 154402, 898989\n",
        "-----------\n",
        "- Grupo 7: 379085, 492016, 503821, 298775, 437207, 237655, 468462, 6138, 429409, 895628, 689655, 745540, 271430, 249413, 665842\n",
        "-----------\n",
        "- Grupo 8: 547340, 434287, 845877, 318163, 383385, 303695, 183174, 803322, 739396, 738429, 566426, 693511, 291795, 115514, 962062\n",
        "-----------\n",
        "- Grupo 9: 190070, 128782, 693561, 470628, 350812, 251131, 207555, 998153, 513295, 658703, 518033, 191863, 503078, 309826, 480596\n",
        "-----------\n",
        "- Grupo 10: 710018, 45355, 823040, 938907, 545749, 126552, 536338, 209189, 412652, 364033, 554906, 303422, 613109, 155462, 623903\n",
        "-----------\n",
        "- Grupo 11: 949633, 757911, 719590, 824893, 803744, 922709, 948559, 158551, 272449, 706751, 666607, 890598, 948905, 106448, 914495\n",
        "-----------\n",
        "- Grupo 12: 172963, 438299, 723274, 438337, 665846, 294920, 502374, 884242, 226508, 831137, 497704, 847097, 537350, 192499, 529620\n",
        "-----------\n",
        "- Grupo 13: 951440, 147188, 254403, 24764, 642869, 468854, 193204, 736053, 126450, 775520, 683065, 921306, 362435, 831077, 932762\n",
        "-----------\n",
        "\n",
        "\n",
        "\n",
        "\n"
      ],
      "metadata": {
        "id": "W3z9sWy1b1jd"
      }
    },
    {
      "cell_type": "markdown",
      "source": [
        "# **Passo 4 : Medir o esforço computacional da função**\n",
        "- Assim como foi feito com a pesquisa linear, faça também os experimentos para a pesquisa binária\n"
      ],
      "metadata": {
        "id": "pY8gfNEfXcH-"
      }
    },
    {
      "cell_type": "code",
      "source": [
        "posicao = 100000          # Posição à experimentar, verificar conforme sua lista\n",
        "chave   = dados_ord[posicao]  # Chave na posição do vetor\n",
        "print(\" Valor e posição: \" + str(chave) + \" - \" + str(posicao))\n",
        "\n",
        "# Realizando a busca\n",
        "result  = PesquisaBinaria(dados_ord, chave)\n",
        "print(result)\n"
      ],
      "metadata": {
        "id": "nIqqp38899ug",
        "colab": {
          "base_uri": "https://localhost:8080/"
        },
        "outputId": "052ff319-c1ab-4fde-f9ca-cbcecd07d22b"
      },
      "execution_count": null,
      "outputs": [
        {
          "output_type": "stream",
          "name": "stdout",
          "text": [
            " Valor e posição: 100147 - 100000\n",
            "[100147, True, 100000, 2.6464462280273438e-05, 76]\n"
          ]
        }
      ]
    },
    {
      "cell_type": "code",
      "source": [
        "# Os resultados da execução acima devem ser copiados para esta lista\n",
        "lstresults = [[5862528, True, 900, 0.00014328956604003906, 1808],\n",
        "[8913659, True, 3500, 0.000698089599609375, 7008],    # Estes dados podem ser retirados\n",
        "[2026127, True, 50005, 0.008655309677124023, 100018],\n",
        "[4113914, True, 90000, 0.015007972717285156, 180008]]"
      ],
      "metadata": {
        "id": "lohGE-Phds31"
      },
      "execution_count": null,
      "outputs": []
    },
    {
      "cell_type": "markdown",
      "source": [
        "# **Passo 5: Analisar o gráfico para a pesquisa binária**"
      ],
      "metadata": {
        "id": "yu3RT7S0oEpV"
      }
    },
    {
      "cell_type": "code",
      "source": [
        "# Questão: Verifique de o Pandas e o Dataframe são muito usados em ciência de dados?\n",
        "#          Imagine como seria um gráfico (Tempo vs Posição da Chave) e (Número de Instruções vs Posição)\n",
        "import pandas as pd\n",
        "import seaborn as sns\n",
        "import matplotlib.pyplot as plt\n",
        "# Analisando graficamente\n",
        "\n",
        "# Gerando um Dataframe, isso ajudará na produção dos gráficos\n",
        "# Veremos mais sobre Dataframes e Gráficos em próximos capítulos\n",
        "df = pd.DataFrame(lstresults, columns =['Chave', 'Existe', 'Posicao', 'Tempo', 'Instrucoes'])\n",
        "\n",
        "# Criando o ambiente do gráfico\n",
        "sns.set_style(\"white\")\n",
        "plt.figure(figsize=(10, 10))\n",
        "\n",
        "# Gráfico de Dispersão\n",
        "graf_linha = sns.lineplot(data = df, x=\"Posicao\", y=\"Instrucoes\",\n",
        "                          color=\"red\", marker=\"*\", markersize=10, markers=\"True\")\n",
        "plt.show()\n"
      ],
      "metadata": {
        "colab": {
          "base_uri": "https://localhost:8080/",
          "height": 870
        },
        "id": "TXLJo4pteIUT",
        "outputId": "7a7ea68f-9466-4567-9b9a-ba293f3314eb"
      },
      "execution_count": null,
      "outputs": [
        {
          "output_type": "display_data",
          "data": {
            "text/plain": [
              "<Figure size 1000x1000 with 1 Axes>"
            ],
            "image/png": "[encoded data removed]"
          },
          "metadata": {}
        }
      ]
    },
    {
      "cell_type": "markdown",
      "source": [
        "# **Conclusões: **\n",
        "- Mais uma vez vale destacar, muito mais importante do que fazer tarefa a tarefa e codificar o algoritmo (eles são básicos e já vistos), vale refletir sobre o que foi feito. As questões a seguir ajudam:\n",
        "- 1) Em um vetor de 1000 elementos, qual o esforço para se saber que uma chave não existe no vetor usando pesquisa binária?\n",
        "- 2) Qual o melhor e o pior caso para a pesquisa binária?\n",
        "- 3) Qual o formato da função de complexidade deste algoritmo?\n",
        "- 4) Tente montar um dataframe com os dois resultados em conjunto, compare linha a linha e depois gere o gráfico com as duas funções!\n",
        "\n",
        "\n"
      ],
      "metadata": {
        "id": "tpccGELdqOTZ"
      }
    }
  ]
}